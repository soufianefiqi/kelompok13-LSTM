{
  "nbformat": 4,
  "nbformat_minor": 0,
  "metadata": {
    "colab": {
      "name": "Stock Price Prediction_LSTM.ipynb",
      "provenance": []
    },
    "kernelspec": {
      "name": "python3",
      "display_name": "Python 3"
    }
  },
  "cells": [
    {
      "cell_type": "code",
      "metadata": {
        "id": "ex_-c-QL1G6o"
      },
      "source": [
        "#import the libraries\r\n",
        "import math\r\n",
        "import pandas_datareader as web\r\n",
        "import numpy as np \r\n",
        "import pandas as pd\r\n",
        "from sklearn.preprocessing import MinMaxScaler\r\n",
        "from keras.models import Sequential\r\n",
        "from keras.layers import Dense, LSTM\r\n",
        "import matplotlib.pyplot as plt \r\n",
        "plt.style.use('fivethirtyeight')\r\n"
      ],
      "execution_count": null,
      "outputs": []
    },
    {
      "cell_type": "code",
      "metadata": {
        "colab": {
          "base_uri": "https://localhost:8080/",
          "height": 431
        },
        "id": "5erjcsCi10dk",
        "outputId": "e2e0e899-e36a-480e-a2c6-4aeed7fb0ff6"
      },
      "source": [
        "df = web.DataReader('AMZN', data_source='yahoo',start='2015-01-01', end='2020-12-12')\r\n",
        "df"
      ],
      "execution_count": null,
      "outputs": [
        {
          "output_type": "execute_result",
          "data": {
            "text/html": [
              "<div>\n",
              "<style scoped>\n",
              "    .dataframe tbody tr th:only-of-type {\n",
              "        vertical-align: middle;\n",
              "    }\n",
              "\n",
              "    .dataframe tbody tr th {\n",
              "        vertical-align: top;\n",
              "    }\n",
              "\n",
              "    .dataframe thead th {\n",
              "        text-align: right;\n",
              "    }\n",
              "</style>\n",
              "<table border=\"1\" class=\"dataframe\">\n",
              "  <thead>\n",
              "    <tr style=\"text-align: right;\">\n",
              "      <th></th>\n",
              "      <th>High</th>\n",
              "      <th>Low</th>\n",
              "      <th>Open</th>\n",
              "      <th>Close</th>\n",
              "      <th>Volume</th>\n",
              "      <th>Adj Close</th>\n",
              "    </tr>\n",
              "    <tr>\n",
              "      <th>Date</th>\n",
              "      <th></th>\n",
              "      <th></th>\n",
              "      <th></th>\n",
              "      <th></th>\n",
              "      <th></th>\n",
              "      <th></th>\n",
              "    </tr>\n",
              "  </thead>\n",
              "  <tbody>\n",
              "    <tr>\n",
              "      <th>2015-01-02</th>\n",
              "      <td>314.750000</td>\n",
              "      <td>306.959991</td>\n",
              "      <td>312.579987</td>\n",
              "      <td>308.519989</td>\n",
              "      <td>2783200</td>\n",
              "      <td>308.519989</td>\n",
              "    </tr>\n",
              "    <tr>\n",
              "      <th>2015-01-05</th>\n",
              "      <td>308.380005</td>\n",
              "      <td>300.850006</td>\n",
              "      <td>307.010010</td>\n",
              "      <td>302.190002</td>\n",
              "      <td>2774200</td>\n",
              "      <td>302.190002</td>\n",
              "    </tr>\n",
              "    <tr>\n",
              "      <th>2015-01-06</th>\n",
              "      <td>303.000000</td>\n",
              "      <td>292.380005</td>\n",
              "      <td>302.239990</td>\n",
              "      <td>295.290009</td>\n",
              "      <td>3519000</td>\n",
              "      <td>295.290009</td>\n",
              "    </tr>\n",
              "    <tr>\n",
              "      <th>2015-01-07</th>\n",
              "      <td>301.279999</td>\n",
              "      <td>295.329987</td>\n",
              "      <td>297.500000</td>\n",
              "      <td>298.420013</td>\n",
              "      <td>2640300</td>\n",
              "      <td>298.420013</td>\n",
              "    </tr>\n",
              "    <tr>\n",
              "      <th>2015-01-08</th>\n",
              "      <td>303.140015</td>\n",
              "      <td>296.109985</td>\n",
              "      <td>300.320007</td>\n",
              "      <td>300.459991</td>\n",
              "      <td>3088400</td>\n",
              "      <td>300.459991</td>\n",
              "    </tr>\n",
              "    <tr>\n",
              "      <th>...</th>\n",
              "      <td>...</td>\n",
              "      <td>...</td>\n",
              "      <td>...</td>\n",
              "      <td>...</td>\n",
              "      <td>...</td>\n",
              "      <td>...</td>\n",
              "    </tr>\n",
              "    <tr>\n",
              "      <th>2020-12-07</th>\n",
              "      <td>3180.760010</td>\n",
              "      <td>3141.689941</td>\n",
              "      <td>3156.479980</td>\n",
              "      <td>3158.000000</td>\n",
              "      <td>2751300</td>\n",
              "      <td>3158.000000</td>\n",
              "    </tr>\n",
              "    <tr>\n",
              "      <th>2020-12-08</th>\n",
              "      <td>3184.129883</td>\n",
              "      <td>3120.020020</td>\n",
              "      <td>3158.899902</td>\n",
              "      <td>3177.290039</td>\n",
              "      <td>3286300</td>\n",
              "      <td>3177.290039</td>\n",
              "    </tr>\n",
              "    <tr>\n",
              "      <th>2020-12-09</th>\n",
              "      <td>3174.429932</td>\n",
              "      <td>3088.000000</td>\n",
              "      <td>3167.889893</td>\n",
              "      <td>3104.199951</td>\n",
              "      <td>4100800</td>\n",
              "      <td>3104.199951</td>\n",
              "    </tr>\n",
              "    <tr>\n",
              "      <th>2020-12-10</th>\n",
              "      <td>3142.100098</td>\n",
              "      <td>3076.000000</td>\n",
              "      <td>3088.989990</td>\n",
              "      <td>3101.489990</td>\n",
              "      <td>3030200</td>\n",
              "      <td>3101.489990</td>\n",
              "    </tr>\n",
              "    <tr>\n",
              "      <th>2020-12-11</th>\n",
              "      <td>3118.669922</td>\n",
              "      <td>3072.820068</td>\n",
              "      <td>3096.659912</td>\n",
              "      <td>3116.419922</td>\n",
              "      <td>3062300</td>\n",
              "      <td>3116.419922</td>\n",
              "    </tr>\n",
              "  </tbody>\n",
              "</table>\n",
              "<p>1498 rows × 6 columns</p>\n",
              "</div>"
            ],
            "text/plain": [
              "                   High          Low  ...   Volume    Adj Close\n",
              "Date                                  ...                      \n",
              "2015-01-02   314.750000   306.959991  ...  2783200   308.519989\n",
              "2015-01-05   308.380005   300.850006  ...  2774200   302.190002\n",
              "2015-01-06   303.000000   292.380005  ...  3519000   295.290009\n",
              "2015-01-07   301.279999   295.329987  ...  2640300   298.420013\n",
              "2015-01-08   303.140015   296.109985  ...  3088400   300.459991\n",
              "...                 ...          ...  ...      ...          ...\n",
              "2020-12-07  3180.760010  3141.689941  ...  2751300  3158.000000\n",
              "2020-12-08  3184.129883  3120.020020  ...  3286300  3177.290039\n",
              "2020-12-09  3174.429932  3088.000000  ...  4100800  3104.199951\n",
              "2020-12-10  3142.100098  3076.000000  ...  3030200  3101.489990\n",
              "2020-12-11  3118.669922  3072.820068  ...  3062300  3116.419922\n",
              "\n",
              "[1498 rows x 6 columns]"
            ]
          },
          "metadata": {
            "tags": []
          },
          "execution_count": 1199
        }
      ]
    },
    {
      "cell_type": "code",
      "metadata": {
        "colab": {
          "base_uri": "https://localhost:8080/"
        },
        "id": "nTMkEKvz2cUJ",
        "outputId": "1a7bddf9-b196-4a53-d44f-1b43eab6b603"
      },
      "source": [
        "#Get the number of rows and columns in the data set \r\n",
        "df.shape"
      ],
      "execution_count": null,
      "outputs": [
        {
          "output_type": "execute_result",
          "data": {
            "text/plain": [
              "(1498, 6)"
            ]
          },
          "metadata": {
            "tags": []
          },
          "execution_count": 1200
        }
      ]
    },
    {
      "cell_type": "code",
      "metadata": {
        "colab": {
          "base_uri": "https://localhost:8080/",
          "height": 575
        },
        "id": "88zVwwul2okD",
        "outputId": "d231dc9d-8caf-4336-b0ca-056a250e879e"
      },
      "source": [
        "#visualize the closing price history \r\n",
        "plt.figure(figsize=(16,8))\r\n",
        "plt.title('Close Price History')\r\n",
        "plt.plot(df['Close'])\r\n",
        "plt.xlabel('Date', fontsize=18)\r\n",
        "plt.ylabel('Close Price USD ($)', fontsize=18)"
      ],
      "execution_count": null,
      "outputs": [
        {
          "output_type": "execute_result",
          "data": {
            "text/plain": [
              "Text(0, 0.5, 'Close Price USD ($)')"
            ]
          },
          "metadata": {
            "tags": []
          },
          "execution_count": 1201
        },
        {
          "output_type": "display_data",
          "data": {
            "image/png": "[encoded data removed]",
            "text/plain": [
              "<Figure size 1152x576 with 1 Axes>"
            ]
          },
          "metadata": {
            "tags": []
          }
        }
      ]
    },
    {
      "cell_type": "code",
      "metadata": {
        "colab": {
          "base_uri": "https://localhost:8080/"
        },
        "id": "qOIqz2ci30gI",
        "outputId": "c24f9adf-0631-483b-e1fb-ffab1f0c78af"
      },
      "source": [
        " #Create a new dataframe with only the 'Close' column\r\n",
        " data = df.filter(['Close'])\r\n",
        " #Convert the dataframe to a numpy array\r\n",
        " dataset = data.values\r\n",
        " #Get the number of rows to train the model on\r\n",
        " training_data_len = math.ceil( len(dataset) * .8 )\r\n",
        " training_data_len "
      ],
      "execution_count": null,
      "outputs": [
        {
          "output_type": "execute_result",
          "data": {
            "text/plain": [
              "1199"
            ]
          },
          "metadata": {
            "tags": []
          },
          "execution_count": 1202
        }
      ]
    },
    {
      "cell_type": "code",
      "metadata": {
        "colab": {
          "base_uri": "https://localhost:8080/"
        },
        "id": "-tdEVaXJ52bK",
        "outputId": "1f16d2f2-f94b-4058-dcee-f0fdfb355f61"
      },
      "source": [
        "#Scale the data \r\n",
        "scaler = MinMaxScaler(feature_range=(0,1))\r\n",
        "scaled_data = scaler.fit_transform(dataset)\r\n",
        "\r\n",
        "scaled_data"
      ],
      "execution_count": null,
      "outputs": [
        {
          "output_type": "execute_result",
          "data": {
            "text/plain": [
              "array([[0.00664817],\n",
              "       [0.00469718],\n",
              "       [0.0025705 ],\n",
              "       ...,\n",
              "       [0.86831561],\n",
              "       [0.86748036],\n",
              "       [0.87208197]])"
            ]
          },
          "metadata": {
            "tags": []
          },
          "execution_count": 1203
        }
      ]
    },
    {
      "cell_type": "code",
      "metadata": {
        "colab": {
          "base_uri": "https://localhost:8080/"
        },
        "id": "ZJ1zxWOh6Sh3",
        "outputId": "6f491e15-923c-4886-b422-d5133357fbf4"
      },
      "source": [
        "#Create the training dataset \r\n",
        "#Create the scaled training data set \r\n",
        "train_data = scaled_data[0:training_data_len, :]\r\n",
        "#Split the data into x_train and y_train data sets \r\n",
        "x_train = []\r\n",
        "y_train = []\r\n",
        "      \r\n",
        "for i in range(60, len(train_data)):\r\n",
        "  x_train.append(train_data[i-60:i, 0])\r\n",
        "  y_train.append(train_data[i, 0])\r\n",
        "  if i <= 60:\r\n",
        "    print(x_train)\r\n",
        "    print(y_train)\r\n",
        "    print()"
      ],
      "execution_count": null,
      "outputs": [
        {
          "output_type": "stream",
          "text": [
            "[array([0.00664817, 0.00469718, 0.0025705 , 0.00353521, 0.00416396,\n",
            "       0.00307597, 0.00137463, 0.00240098, 0.0019479 , 0.        ,\n",
            "       0.00116812, 0.00076745, 0.0031746 , 0.00720296, 0.00784096,\n",
            "       0.00699954, 0.00610263, 0.00522731, 0.00765295, 0.02082909,\n",
            "       0.02389274, 0.02360918, 0.02397904, 0.02679612, 0.02691632,\n",
            "       0.02576976, 0.0265218 , 0.02718139, 0.02780706, 0.02924333,\n",
            "       0.02727076, 0.02663584, 0.02837109, 0.02980736, 0.02872245,\n",
            "       0.02824472, 0.03033441, 0.03015872, 0.02872862, 0.03042379,\n",
            "       0.03010016, 0.02951764, 0.03109261, 0.02870704, 0.02823547,\n",
            "       0.02544614, 0.02447834, 0.02690399, 0.02577592, 0.02662968,\n",
            "       0.02618894, 0.02718139, 0.02659577, 0.02821389, 0.02717213,\n",
            "       0.02685775, 0.02589304, 0.0247804 , 0.02576976, 0.02701186])]\n",
            "[0.026244412235572875]\n",
            "\n"
          ],
          "name": "stdout"
        }
      ]
    },
    {
      "cell_type": "code",
      "metadata": {
        "id": "nR0ly7XT7Z9n"
      },
      "source": [
        "#Convert the x_train and y_train to numpy arrays\r\n",
        "x_train, y_train = np.array(x_train), np.array(y_train)"
      ],
      "execution_count": null,
      "outputs": []
    },
    {
      "cell_type": "code",
      "metadata": {
        "colab": {
          "base_uri": "https://localhost:8080/"
        },
        "id": "sLoSsuBe8IqL",
        "outputId": "ca6d533f-a30d-4d95-c61f-ddc0bfb9cc59"
      },
      "source": [
        "#Reshape the data\r\n",
        "x_train = np.reshape(x_train, (x_train.shape[0], x_train.shape[1], 1)) \r\n",
        "x_train.shape\r\n"
      ],
      "execution_count": null,
      "outputs": [
        {
          "output_type": "execute_result",
          "data": {
            "text/plain": [
              "(1139, 60, 1)"
            ]
          },
          "metadata": {
            "tags": []
          },
          "execution_count": 1206
        }
      ]
    },
    {
      "cell_type": "code",
      "metadata": {
        "id": "BHCYq99Y8nCo"
      },
      "source": [
        "#Build the LSTM Model \r\n",
        "model = Sequential()\r\n",
        "model.add(LSTM(25, return_sequences=True, input_shape = (x_train.shape[1],1)))\r\n",
        "model.add(LSTM(25, return_sequences=False))\r\n",
        "model.add(Dense(23))\r\n",
        "model.add(Dense(1))\r\n"
      ],
      "execution_count": null,
      "outputs": []
    },
    {
      "cell_type": "code",
      "metadata": {
        "id": "j85OsqiQ9JOW"
      },
      "source": [
        "#Compile the model\r\n",
        "model.compile(optimizer='adam', loss='mean_squared_error')"
      ],
      "execution_count": null,
      "outputs": []
    },
    {
      "cell_type": "code",
      "metadata": {
        "colab": {
          "base_uri": "https://localhost:8080/"
        },
        "id": "nZLVpow99UoT",
        "outputId": "3cb23486-2f38-4032-e349-b08ed257411f"
      },
      "source": [
        "#Train the model\r\n",
        "model.fit(x_train, y_train, batch_size=1, epochs=1)"
      ],
      "execution_count": null,
      "outputs": [
        {
          "output_type": "stream",
          "text": [
            "1139/1139 [==============================] - 22s 20ms/step - loss: 8.2853e-04\n"
          ],
          "name": "stdout"
        },
        {
          "output_type": "execute_result",
          "data": {
            "text/plain": [
              "<tensorflow.python.keras.callbacks.History at 0x7f60e3ce24e0>"
            ]
          },
          "metadata": {
            "tags": []
          },
          "execution_count": 1209
        }
      ]
    },
    {
      "cell_type": "code",
      "metadata": {
        "id": "yX4QzfCv9rev"
      },
      "source": [
        "#Create the testing dataset\r\n",
        "#Create a new array containing scaled values from index 1139 to 1498 \r\n",
        "test_data = scaled_data[training_data_len - 60: , :]\r\n",
        "#Create the data sets x_test and y_test\r\n",
        "x_test = []\r\n",
        "y_test = dataset[training_data_len:, :]\r\n",
        "for i in range(60, len(test_data)):\r\n",
        "  x_test.append(test_data[i-60:i, 0])\r\n",
        "   "
      ],
      "execution_count": null,
      "outputs": []
    },
    {
      "cell_type": "code",
      "metadata": {
        "id": "2TNuAY8J-0sM"
      },
      "source": [
        "#Convert the data into a numpy array\r\n",
        "x_test = np.array(x_test)\r\n"
      ],
      "execution_count": null,
      "outputs": []
    },
    {
      "cell_type": "code",
      "metadata": {
        "id": "bXS90vvd-8x0"
      },
      "source": [
        "#Reshape the data \r\n",
        "x_test = np.reshape(x_test, (x_test.shape[0], x_test.shape[1], 1))"
      ],
      "execution_count": null,
      "outputs": []
    },
    {
      "cell_type": "code",
      "metadata": {
        "id": "YhMhZGdD_Uu3"
      },
      "source": [
        "#Get the models predicted price values \r\n",
        "predictions = model.predict(x_test)\r\n",
        "predictions = scaler.inverse_transform(predictions)"
      ],
      "execution_count": null,
      "outputs": []
    },
    {
      "cell_type": "code",
      "metadata": {
        "colab": {
          "base_uri": "https://localhost:8080/"
        },
        "id": "M_laERgf_v0W",
        "outputId": "eb534fd6-f8b8-4d27-e887-a1c49b367351"
      },
      "source": [
        "#Get the root mean squared error (RMSE)\r\n",
        "rmse = np.sqrt(np.mean(predictions - y_test)**2)\r\n",
        "rmse"
      ],
      "execution_count": null,
      "outputs": [
        {
          "output_type": "execute_result",
          "data": {
            "text/plain": [
              "52.10875035927049"
            ]
          },
          "metadata": {
            "tags": []
          },
          "execution_count": 1214
        }
      ]
    },
    {
      "cell_type": "code",
      "metadata": {
        "colab": {
          "base_uri": "https://localhost:8080/",
          "height": 390
        },
        "id": "rpps6AgcAT4V",
        "outputId": "9edf62ba-7c0f-4665-8786-a81d34b2ba25"
      },
      "source": [
        "#Plot the data \r\n",
        "train = data[:training_data_len]\r\n",
        "valid = data[training_data_len:]\r\n",
        "valid['Predictions'] = predictions\r\n",
        "#Visualize the data \r\n",
        "plt.figure(figsize=(16,8))\r\n",
        "plt.title('Model')\r\n",
        "plt.xlabel('Date', fontsize=18)\r\n",
        "plt.ylabel('Close Price USD ($)', fontsize=18)\r\n",
        "plt.plot(train['Close'])\r\n",
        "plt.plot(valid[['Close', 'Predictions']])\r\n",
        "plt.legend(['Train', 'Val', 'Predictions'], loc ='Lower Right')\r\n",
        "plt.show()"
      ],
      "execution_count": null,
      "outputs": [
        {
          "output_type": "stream",
          "text": [
            "/usr/local/lib/python3.6/dist-packages/ipykernel_launcher.py:4: SettingWithCopyWarning: \n",
            "A value is trying to be set on a copy of a slice from a DataFrame.\n",
            "Try using .loc[row_indexer,col_indexer] = value instead\n",
            "\n",
            "See the caveats in the documentation: https://pandas.pydata.org/pandas-docs/stable/user_guide/indexing.html#returning-a-view-versus-a-copy\n",
            "  after removing the cwd from sys.path.\n",
            "/usr/local/lib/python3.6/dist-packages/ipykernel_launcher.py:12: MatplotlibDeprecationWarning: Unrecognized location 'Lower Right'. Falling back on 'best'; valid locations are\n",
            "\tbest\n",
            "\tupper right\n",
            "\tupper left\n",
            "\tlower left\n",
            "\tlower right\n",
            "\tright\n",
            "\tcenter left\n",
            "\tcenter right\n",
            "\tlower center\n",
            "\tupper center\n",
            "\tcenter\n",
            "This will raise an exception in 3.3.\n",
            "  if sys.path[0] == '':\n"
          ],
          "name": "stderr"
        },
        {
          "output_type": "display_data",
          "data": {
            "image/png": "[encoded data removed]",
            "text/plain": [
              "<Figure size 1152x576 with 1 Axes>"
            ]
          },
          "metadata": {
            "tags": []
          }
        }
      ]
    },
    {
      "cell_type": "code",
      "metadata": {
        "colab": {
          "base_uri": "https://localhost:8080/",
          "height": 686
        },
        "id": "H3clIUg7CIgx",
        "outputId": "ba83c17a-1cc3-4190-dfa4-1cedde94e0b6"
      },
      "source": [
        "#Show the valid and the predicted prices\r\n",
        "valid"
      ],
      "execution_count": null,
      "outputs": [
        {
          "output_type": "execute_result",
          "data": {
            "text/html": [
              "<div>\n",
              "<style scoped>\n",
              "    .dataframe tbody tr th:only-of-type {\n",
              "        vertical-align: middle;\n",
              "    }\n",
              "\n",
              "    .dataframe tbody tr th {\n",
              "        vertical-align: top;\n",
              "    }\n",
              "\n",
              "    .dataframe thead th {\n",
              "        text-align: right;\n",
              "    }\n",
              "</style>\n",
              "<table border=\"1\" class=\"dataframe\">\n",
              "  <thead>\n",
              "    <tr style=\"text-align: right;\">\n",
              "      <th></th>\n",
              "      <th>Close</th>\n",
              "      <th>Predictions</th>\n",
              "    </tr>\n",
              "    <tr>\n",
              "      <th>Date</th>\n",
              "      <th></th>\n",
              "      <th></th>\n",
              "    </tr>\n",
              "  </thead>\n",
              "  <tbody>\n",
              "    <tr>\n",
              "      <th>2019-10-08</th>\n",
              "      <td>1705.510010</td>\n",
              "      <td>1797.976929</td>\n",
              "    </tr>\n",
              "    <tr>\n",
              "      <th>2019-10-09</th>\n",
              "      <td>1721.989990</td>\n",
              "      <td>1792.508545</td>\n",
              "    </tr>\n",
              "    <tr>\n",
              "      <th>2019-10-10</th>\n",
              "      <td>1720.260010</td>\n",
              "      <td>1787.793945</td>\n",
              "    </tr>\n",
              "    <tr>\n",
              "      <th>2019-10-11</th>\n",
              "      <td>1731.920044</td>\n",
              "      <td>1783.628174</td>\n",
              "    </tr>\n",
              "    <tr>\n",
              "      <th>2019-10-14</th>\n",
              "      <td>1736.430054</td>\n",
              "      <td>1780.541504</td>\n",
              "    </tr>\n",
              "    <tr>\n",
              "      <th>...</th>\n",
              "      <td>...</td>\n",
              "      <td>...</td>\n",
              "    </tr>\n",
              "    <tr>\n",
              "      <th>2020-12-07</th>\n",
              "      <td>3158.000000</td>\n",
              "      <td>3057.785400</td>\n",
              "    </tr>\n",
              "    <tr>\n",
              "      <th>2020-12-08</th>\n",
              "      <td>3177.290039</td>\n",
              "      <td>3059.766602</td>\n",
              "    </tr>\n",
              "    <tr>\n",
              "      <th>2020-12-09</th>\n",
              "      <td>3104.199951</td>\n",
              "      <td>3061.722168</td>\n",
              "    </tr>\n",
              "    <tr>\n",
              "      <th>2020-12-10</th>\n",
              "      <td>3101.489990</td>\n",
              "      <td>3060.031982</td>\n",
              "    </tr>\n",
              "    <tr>\n",
              "      <th>2020-12-11</th>\n",
              "      <td>3116.419922</td>\n",
              "      <td>3056.648438</td>\n",
              "    </tr>\n",
              "  </tbody>\n",
              "</table>\n",
              "<p>299 rows × 2 columns</p>\n",
              "</div>"
            ],
            "text/plain": [
              "                  Close  Predictions\n",
              "Date                                \n",
              "2019-10-08  1705.510010  1797.976929\n",
              "2019-10-09  1721.989990  1792.508545\n",
              "2019-10-10  1720.260010  1787.793945\n",
              "2019-10-11  1731.920044  1783.628174\n",
              "2019-10-14  1736.430054  1780.541504\n",
              "...                 ...          ...\n",
              "2020-12-07  3158.000000  3057.785400\n",
              "2020-12-08  3177.290039  3059.766602\n",
              "2020-12-09  3104.199951  3061.722168\n",
              "2020-12-10  3101.489990  3060.031982\n",
              "2020-12-11  3116.419922  3056.648438\n",
              "\n",
              "[299 rows x 2 columns]"
            ]
          },
          "metadata": {
            "tags": []
          },
          "execution_count": 1216
        }
      ]
    },
    {
      "cell_type": "code",
      "metadata": {
        "colab": {
          "base_uri": "https://localhost:8080/"
        },
        "id": "tU2QAe3BFrT8",
        "outputId": "47a43ce9-0a2d-4ebd-8b89-a6507f88bc97"
      },
      "source": [
        "predictions"
      ],
      "execution_count": null,
      "outputs": [
        {
          "output_type": "execute_result",
          "data": {
            "text/plain": [
              "array([[1797.9769],\n",
              "       [1792.5085],\n",
              "       [1787.794 ],\n",
              "       [1783.6282],\n",
              "       [1780.5415],\n",
              "       [1778.472 ],\n",
              "       [1778.5568],\n",
              "       [1780.4385],\n",
              "       [1783.8888],\n",
              "       [1786.8788],\n",
              "       [1790.8055],\n",
              "       [1794.1775],\n",
              "       [1796.9506],\n",
              "       [1800.0363],\n",
              "       [1802.2517],\n",
              "       [1804.574 ],\n",
              "       [1806.1559],\n",
              "       [1808.0096],\n",
              "       [1809.7488],\n",
              "       [1812.0259],\n",
              "       [1815.1125],\n",
              "       [1818.446 ],\n",
              "       [1821.5613],\n",
              "       [1824.0793],\n",
              "       [1826.0071],\n",
              "       [1826.8154],\n",
              "       [1827.17  ],\n",
              "       [1826.0492],\n",
              "       [1824.1434],\n",
              "       [1821.0886],\n",
              "       [1818.0293],\n",
              "       [1815.0526],\n",
              "       [1811.9408],\n",
              "       [1808.415 ],\n",
              "       [1805.2914],\n",
              "       [1803.7885],\n",
              "       [1804.3877],\n",
              "       [1807.2897],\n",
              "       [1810.7693],\n",
              "       [1813.7103],\n",
              "       [1815.6974],\n",
              "       [1816.5603],\n",
              "       [1815.7341],\n",
              "       [1814.3634],\n",
              "       [1812.5306],\n",
              "       [1810.013 ],\n",
              "       [1807.6072],\n",
              "       [1805.8629],\n",
              "       [1804.6322],\n",
              "       [1804.1825],\n",
              "       [1805.2189],\n",
              "       [1806.8455],\n",
              "       [1809.2131],\n",
              "       [1811.6875],\n",
              "       [1814.4458],\n",
              "       [1817.0776],\n",
              "       [1823.1084],\n",
              "       [1830.9241],\n",
              "       [1838.6283],\n",
              "       [1846.0708],\n",
              "       [1855.2607],\n",
              "       [1863.9979],\n",
              "       [1873.434 ],\n",
              "       [1882.998 ],\n",
              "       [1891.5669],\n",
              "       [1899.5737],\n",
              "       [1906.006 ],\n",
              "       [1911.5471],\n",
              "       [1915.2211],\n",
              "       [1917.2417],\n",
              "       [1918.803 ],\n",
              "       [1919.3223],\n",
              "       [1920.421 ],\n",
              "       [1921.5461],\n",
              "       [1922.5547],\n",
              "       [1922.4233],\n",
              "       [1920.1238],\n",
              "       [1917.7086],\n",
              "       [1915.4055],\n",
              "       [1913.8428],\n",
              "       [1919.0447],\n",
              "       [1927.8182],\n",
              "       [1940.7968],\n",
              "       [1955.4243],\n",
              "       [1971.067 ],\n",
              "       [1987.9739],\n",
              "       [2007.336 ],\n",
              "       [2028.0284],\n",
              "       [2049.0803],\n",
              "       [2068.9587],\n",
              "       [2086.552 ],\n",
              "       [2102.8518],\n",
              "       [2118.1152],\n",
              "       [2131.176 ],\n",
              "       [2139.6973],\n",
              "       [2141.1543],\n",
              "       [2136.5635],\n",
              "       [2128.5513],\n",
              "       [2114.1958],\n",
              "       [2096.6638],\n",
              "       [2080.887 ],\n",
              "       [2064.5898],\n",
              "       [2051.9597],\n",
              "       [2039.6659],\n",
              "       [2027.3832],\n",
              "       [2011.161 ],\n",
              "       [1997.5447],\n",
              "       [1982.5542],\n",
              "       [1961.1088],\n",
              "       [1941.6969],\n",
              "       [1919.5696],\n",
              "       [1902.345 ],\n",
              "       [1889.6185],\n",
              "       [1882.7504],\n",
              "       [1878.381 ],\n",
              "       [1878.6233],\n",
              "       [1883.3965],\n",
              "       [1888.4349],\n",
              "       [1896.8181],\n",
              "       [1904.2572],\n",
              "       [1913.8774],\n",
              "       [1923.5994],\n",
              "       [1931.1548],\n",
              "       [1937.5969],\n",
              "       [1942.3755],\n",
              "       [1949.9963],\n",
              "       [1959.4388],\n",
              "       [1971.1262],\n",
              "       [1983.6971],\n",
              "       [2002.0668],\n",
              "       [2028.1605],\n",
              "       [2058.9404],\n",
              "       [2096.038 ],\n",
              "       [2133.715 ],\n",
              "       [2171.1655],\n",
              "       [2203.6707],\n",
              "       [2233.3816],\n",
              "       [2261.2817],\n",
              "       [2287.0225],\n",
              "       [2308.5776],\n",
              "       [2323.781 ],\n",
              "       [2337.115 ],\n",
              "       [2352.8477],\n",
              "       [2360.3162],\n",
              "       [2364.583 ],\n",
              "       [2366.3184],\n",
              "       [2367.8257],\n",
              "       [2369.6748],\n",
              "       [2372.1619],\n",
              "       [2376.2668],\n",
              "       [2378.7268],\n",
              "       [2380.8438],\n",
              "       [2383.4963],\n",
              "       [2387.2166],\n",
              "       [2392.1213],\n",
              "       [2398.567 ],\n",
              "       [2407.8416],\n",
              "       [2415.9434],\n",
              "       [2422.8186],\n",
              "       [2427.9119],\n",
              "       [2431.1465],\n",
              "       [2432.634 ],\n",
              "       [2434.8333],\n",
              "       [2438.4446],\n",
              "       [2442.742 ],\n",
              "       [2447.601 ],\n",
              "       [2451.7703],\n",
              "       [2456.4448],\n",
              "       [2462.9624],\n",
              "       [2473.6675],\n",
              "       [2488.3103],\n",
              "       [2500.5405],\n",
              "       [2510.6826],\n",
              "       [2520.268 ],\n",
              "       [2530.7788],\n",
              "       [2542.3157],\n",
              "       [2554.4548],\n",
              "       [2567.3352],\n",
              "       [2581.7566],\n",
              "       [2598.5874],\n",
              "       [2614.515 ],\n",
              "       [2630.3027],\n",
              "       [2642.268 ],\n",
              "       [2651.0664],\n",
              "       [2661.0083],\n",
              "       [2676.1235],\n",
              "       [2693.6143],\n",
              "       [2719.5034],\n",
              "       [2745.7778],\n",
              "       [2775.3584],\n",
              "       [2809.6228],\n",
              "       [2845.29  ],\n",
              "       [2875.6914],\n",
              "       [2901.1282],\n",
              "       [2918.756 ],\n",
              "       [2930.6692],\n",
              "       [2936.5588],\n",
              "       [2949.3054],\n",
              "       [2961.1013],\n",
              "       [2970.7292],\n",
              "       [2973.6445],\n",
              "       [2974.0781],\n",
              "       [2974.6772],\n",
              "       [2972.4353],\n",
              "       [2970.5234],\n",
              "       [2969.4175],\n",
              "       [2973.9202],\n",
              "       [2978.4453],\n",
              "       [2984.6045],\n",
              "       [2994.276 ],\n",
              "       [3006.0854],\n",
              "       [3015.963 ],\n",
              "       [3023.7888],\n",
              "       [3026.943 ],\n",
              "       [3031.2388],\n",
              "       [3035.1697],\n",
              "       [3038.1658],\n",
              "       [3042.1172],\n",
              "       [3052.1052],\n",
              "       [3061.9495],\n",
              "       [3073.541 ],\n",
              "       [3084.7349],\n",
              "       [3096.3157],\n",
              "       [3109.125 ],\n",
              "       [3126.0798],\n",
              "       [3142.0671],\n",
              "       [3157.243 ],\n",
              "       [3173.3296],\n",
              "       [3190.8948],\n",
              "       [3209.564 ],\n",
              "       [3220.3145],\n",
              "       [3223.828 ],\n",
              "       [3216.4905],\n",
              "       [3209.2913],\n",
              "       [3196.8704],\n",
              "       [3180.0537],\n",
              "       [3161.1028],\n",
              "       [3144.1702],\n",
              "       [3125.2476],\n",
              "       [3103.5974],\n",
              "       [3079.3428],\n",
              "       [3055.224 ],\n",
              "       [3039.925 ],\n",
              "       [3023.5842],\n",
              "       [3009.6487],\n",
              "       [3001.0955],\n",
              "       [2999.3738],\n",
              "       [3000.1812],\n",
              "       [3003.1265],\n",
              "       [3010.574 ],\n",
              "       [3015.4978],\n",
              "       [3022.8967],\n",
              "       [3026.2122],\n",
              "       [3032.077 ],\n",
              "       [3038.0742],\n",
              "       [3048.3853],\n",
              "       [3067.2078],\n",
              "       [3089.2354],\n",
              "       [3108.7654],\n",
              "       [3125.379 ],\n",
              "       [3136.4495],\n",
              "       [3141.0176],\n",
              "       [3142.171 ],\n",
              "       [3139.4136],\n",
              "       [3134.1895],\n",
              "       [3128.9539],\n",
              "       [3123.8062],\n",
              "       [3122.5989],\n",
              "       [3117.5994],\n",
              "       [3113.8994],\n",
              "       [3102.6423],\n",
              "       [3087.314 ],\n",
              "       [3072.1921],\n",
              "       [3066.2583],\n",
              "       [3068.464 ],\n",
              "       [3074.7905],\n",
              "       [3076.0476],\n",
              "       [3070.6162],\n",
              "       [3066.6396],\n",
              "       [3061.4258],\n",
              "       [3056.8425],\n",
              "       [3052.7937],\n",
              "       [3049.4966],\n",
              "       [3045.428 ],\n",
              "       [3041.8762],\n",
              "       [3037.8845],\n",
              "       [3033.9258],\n",
              "       [3031.0674],\n",
              "       [3031.9363],\n",
              "       [3035.0425],\n",
              "       [3038.177 ],\n",
              "       [3043.8352],\n",
              "       [3049.5796],\n",
              "       [3054.5369],\n",
              "       [3057.7854],\n",
              "       [3059.7666],\n",
              "       [3061.7222],\n",
              "       [3060.032 ],\n",
              "       [3056.6484]], dtype=float32)"
            ]
          },
          "metadata": {
            "tags": []
          },
          "execution_count": 1217
        }
      ]
    },
    {
      "cell_type": "code",
      "metadata": {
        "colab": {
          "base_uri": "https://localhost:8080/"
        },
        "id": "Gf7jewi7Cl1f",
        "outputId": "6223775c-dded-41bf-d89a-2fdbc40999da"
      },
      "source": [
        "#Get the quote \r\n",
        "apple_quote = web.DataReader('AAPL', data_source='yahoo', start='2012-01-01', end='2019-12-17')\r\n",
        "#Create a new dataframe\r\n",
        "new_df = apple_quote.filter(['Close'])\r\n",
        "#Get the last 60 days closing price values and cpnvert the dataframe to an array \r\n",
        "last_60_days = new_df[-60:].values\r\n",
        "#Scale the data to be values between 0 and 1 \r\n",
        "last_60_days_scaled = scaler.transform(last_60_days)\r\n",
        "#Create an empty list \r\n",
        "X_test = []\r\n",
        "#Append the past 60 days \r\n",
        "X_test.append(last_60_days_scaled)\r\n",
        "#Convert the X_test dataset to a numpy array\r\n",
        "X_test = np.array(X_test)\r\n",
        "#Reshape the data \r\n",
        "X_test = np.reshape(X_test, (X_test.shape[0], X_test.shape[1], 1))\r\n",
        "#Get the predicted scaled price\r\n",
        "pred_price = model.predict(X_test)\r\n",
        "#undo the scaling\r\n",
        "pred_price = scaler.inverse_transform(pred_price)\r\n",
        "print(pred_price)\r\n"
      ],
      "execution_count": null,
      "outputs": [
        {
          "output_type": "stream",
          "text": [
            "[[-14.41675]]\n"
          ],
          "name": "stdout"
        }
      ]
    },
    {
      "cell_type": "code",
      "metadata": {
        "colab": {
          "base_uri": "https://localhost:8080/"
        },
        "id": "4UO92q6UElJN",
        "outputId": "8d6eb15d-d9a2-4c8c-cc2d-c296d0a7e281"
      },
      "source": [
        "#Get the quote\r\n",
        "apple_quote2 = web.DataReader('AAPL', data_source='yahoo', start='2019-12-18', end='2019-12-18')\r\n",
        "print(apple_quote2['Close'])"
      ],
      "execution_count": null,
      "outputs": [
        {
          "output_type": "stream",
          "text": [
            "Date\n",
            "2019-12-18    69.934998\n",
            "Name: Close, dtype: float64\n"
          ],
          "name": "stdout"
        }
      ]
    },
    {
      "cell_type": "code",
      "metadata": {
        "id": "ksa03t5OEda1"
      },
      "source": [
        ""
      ],
      "execution_count": null,
      "outputs": []
    }
  ]
}